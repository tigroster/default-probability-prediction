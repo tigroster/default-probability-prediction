{
 "cells": [
  {
   "cell_type": "code",
   "execution_count": 121,
   "id": "initial_id",
   "metadata": {
    "collapsed": true,
    "ExecuteTime": {
     "end_time": "2023-12-28T17:57:58.592447800Z",
     "start_time": "2023-12-28T17:57:58.546209500Z"
    }
   },
   "outputs": [],
   "source": [
    "import pandas as pd\n",
    "import numpy as np\n",
    "import matplotlib.pyplot as plt\n",
    "\n",
    "from sklearn.model_selection import train_test_split, GridSearchCV\n",
    "from sklearn.linear_model import LogisticRegression\n",
    "from sklearn.metrics import accuracy_score, classification_report, roc_auc_score\n",
    "from mlxtend.feature_selection import SequentialFeatureSelector\n",
    "\n",
    "from sklearn.preprocessing import StandardScaler\n",
    "from sklearn import metrics"
   ]
  },
  {
   "cell_type": "markdown",
   "source": [
    "# Load Dataset"
   ],
   "metadata": {
    "collapsed": false
   },
   "id": "59c1c12ec474a181"
  },
  {
   "cell_type": "code",
   "execution_count": 122,
   "outputs": [],
   "source": [
    "np.set_printoptions(precision=4, suppress=True)\n",
    "pd.set_option('display.float_format', lambda x: '%.4f' % x)\n",
    "\n",
    "df = pd.read_csv('../data/NumericalLoanData.csv', low_memory=False)"
   ],
   "metadata": {
    "collapsed": false,
    "ExecuteTime": {
     "end_time": "2023-12-28T17:57:58.665162Z",
     "start_time": "2023-12-28T17:57:58.550814600Z"
    }
   },
   "id": "b5bee07d4701cd4a"
  },
  {
   "cell_type": "markdown",
   "source": [
    "# Logistic Regression with all columns"
   ],
   "metadata": {
    "collapsed": false
   },
   "id": "e381dcb647e5d808"
  },
  {
   "cell_type": "code",
   "execution_count": 135,
   "outputs": [
    {
     "name": "stdout",
     "output_type": "stream",
     "text": [
      "Score: [[-0.0325  0.0377  0.1014 -0.045   0.0667 -0.0756  0.4431  0.1034  0.0198\n",
      "   0.623   0.2053  0.0603 -0.0138 -0.003  -0.0281  0.0401  0.0549  0.0006\n",
      "  -0.0188]]\n",
      "Score: [0.3026]\n",
      "Score: 1\n",
      "Accuracy: 0.6766441214563247\n",
      "Classification Report:\n",
      "               precision    recall  f1-score   support\n",
      "\n",
      "           0       0.64      0.58      0.61      3012\n",
      "           1       0.70      0.75      0.73      3937\n",
      "\n",
      "    accuracy                           0.68      6949\n",
      "   macro avg       0.67      0.66      0.67      6949\n",
      "weighted avg       0.67      0.68      0.67      6949\n",
      "\n",
      "ROC AUC Score: 0.7265671038646195\n"
     ]
    }
   ],
   "source": [
    "x = df.drop('Default', axis=1)\n",
    "y = df['Default']\n",
    "\n",
    "x_scaled = StandardScaler().fit_transform(x) \n",
    "x_train, x_test, y_train, y_test = train_test_split(x_scaled, y, test_size=0.2)\n",
    "\n",
    "\n",
    "logistic_regression_model = LogisticRegression()\n",
    "logistic_regression_model.fit(x_train, y_train)\n",
    "y_pred = logistic_regression_model.predict(x_test)\n",
    "\n",
    "\n",
    "print(\"Score:\", logistic_regression_model.coef_)\n",
    "print(\"Score:\", logistic_regression_model.intercept_)\n",
    "print(\"Accuracy:\", accuracy_score(y_test, y_pred))\n",
    "print(\"Classification Report:\\n\", classification_report(y_test, y_pred))\n",
    "print(\"ROC AUC Score:\", roc_auc_score(y_test, logistic_regression_model.predict_proba(x_test)[:, 1]))"
   ],
   "metadata": {
    "collapsed": false,
    "ExecuteTime": {
     "end_time": "2023-12-28T18:11:32.570634400Z",
     "start_time": "2023-12-28T18:11:32.464925500Z"
    }
   },
   "id": "53689253a22dafb"
  },
  {
   "cell_type": "code",
   "execution_count": 124,
   "outputs": [
    {
     "data": {
      "text/plain": "<Figure size 640x480 with 1 Axes>",
      "image/png": "[encoded data removed]"
     },
     "metadata": {},
     "output_type": "display_data"
    }
   ],
   "source": [
    "y_pred_proba = logistic_regression_model.predict_proba(x_test)[::,1]\n",
    "fpr, tpr, _ = metrics.roc_curve(y_test,  y_pred_proba)\n",
    "\n",
    "plt.plot(fpr,tpr)\n",
    "plt.ylabel('True Positive Rate')\n",
    "plt.xlabel('False Positive Rate')\n",
    "plt.show()"
   ],
   "metadata": {
    "collapsed": false,
    "ExecuteTime": {
     "end_time": "2023-12-28T17:57:58.968973300Z",
     "start_time": "2023-12-28T17:57:58.789075Z"
    }
   },
   "id": "cf777b1b3a37f7c6"
  },
  {
   "cell_type": "markdown",
   "source": [
    "## Feature Selection (Forward Stepwise Selection)"
   ],
   "metadata": {
    "collapsed": false
   },
   "id": "69e6b4360d12a0e9"
  },
  {
   "cell_type": "code",
   "execution_count": 137,
   "outputs": [
    {
     "name": "stderr",
     "output_type": "stream",
     "text": [
      "\n",
      "[2023-12-28 19:13:43] Features: 1/19 -- score: 0.6368899160218506\n",
      "[2023-12-28 19:13:45] Features: 2/19 -- score: 0.6676139606393676\n",
      "[2023-12-28 19:13:46] Features: 3/19 -- score: 0.6711397293390328\n",
      "[2023-12-28 19:13:48] Features: 4/19 -- score: 0.671679336509206\n",
      "[2023-12-28 19:13:50] Features: 5/19 -- score: 0.6729384910851675\n",
      "[2023-12-28 19:13:52] Features: 6/19 -- score: 0.6742335327636434\n",
      "[2023-12-28 19:13:53] Features: 7/19 -- score: 0.6745573255373036\n",
      "[2023-12-28 19:13:55] Features: 8/19 -- score: 0.6750969521199014\n",
      "[2023-12-28 19:13:56] Features: 9/19 -- score: 0.6750970168279838\n",
      "[2023-12-28 19:13:58] Features: 10/19 -- score: 0.6753128765201547\n",
      "[2023-12-28 19:13:59] Features: 11/19 -- score: 0.6752768794139\n",
      "[2023-12-28 19:14:00] Features: 12/19 -- score: 0.6752768794139\n",
      "[2023-12-28 19:14:01] Features: 13/19 -- score: 0.6752409599573445\n",
      "[2023-12-28 19:14:03] Features: 14/19 -- score: 0.6752409470157279\n",
      "[2023-12-28 19:14:04] Features: 15/19 -- score: 0.6750250808527489\n",
      "[2023-12-28 19:14:05] Features: 16/19 -- score: 0.674089699638023\n",
      "[2023-12-28 19:14:06] Features: 17/19 -- score: 0.6737659845140618\n",
      "[2023-12-28 19:14:07] Features: 18/19 -- score: 0.6744494053974306"
     ]
    },
    {
     "name": "stdout",
     "output_type": "stream",
     "text": [
      "Selected features: (0, 1, 2, 5, 6, 7, 9, 10, 17, 18)\n"
     ]
    },
    {
     "name": "stderr",
     "output_type": "stream",
     "text": [
      "\n",
      "[2023-12-28 19:14:07] Features: 19/19 -- score: 0.6738018004376856"
     ]
    },
    {
     "data": {
      "text/plain": "       Age  AppliedAmount  DebtToIncome  LiabilitiesTotal  LoanDuration  \\\n0       53      2125.0000       26.2900          485.0900            60   \n1       50      3000.0000       30.5800          736.4500            60   \n2       44     10630.0000       26.7100          905.0000            60   \n3       42      1500.0000        7.3600          350.0000            60   \n4       34      1595.0000       36.0400          940.0000            48   \n...    ...            ...           ...               ...           ...   \n34740   38      2000.0000        9.4000          830.0000            60   \n34741   37      7440.0000       69.7700         2488.0900            60   \n34742   37      1595.0000       30.1300         1877.0000            60   \n34743   58      3000.0000       25.3500          359.0000            60   \n34744   64      1300.0000       56.5900          804.2000            48   \n\n       NewCreditCustomer  WOECountry  WOEEducation  WOEUseOfLoan  \\\n0                      0     -0.4964       -0.2142       -0.0249   \n1                      0     -0.4964       -0.2081       -0.0249   \n2                      1     -0.4964       -0.2142       -0.0249   \n3                      1      0.9821        0.3224       -0.0249   \n4                      1      0.9821       -0.2142        0.0271   \n...                  ...         ...           ...           ...   \n34740                  1      0.7346        0.5210        0.0271   \n34741                  0      0.7346       -0.2142       -0.0249   \n34742                  0      0.9821        0.5210        0.0271   \n34743                  1     -0.4964        0.5210        0.0271   \n34744                  0     -0.4964       -0.2142        0.0271   \n\n       WOEWorkExperience  \n0                 0.0350  \n1                 0.0350  \n2                 0.0350  \n3                -0.0213  \n4                -0.0213  \n...                  ...  \n34740            -0.0213  \n34741             0.0350  \n34742             0.0350  \n34743             0.0350  \n34744             0.0350  \n\n[34745 rows x 10 columns]",
      "text/html": "<div>\n<style scoped>\n    .dataframe tbody tr th:only-of-type {\n        vertical-align: middle;\n    }\n\n    .dataframe tbody tr th {\n        vertical-align: top;\n    }\n\n    .dataframe thead th {\n        text-align: right;\n    }\n</style>\n<table border=\"1\" class=\"dataframe\">\n  <thead>\n    <tr style=\"text-align: right;\">\n      <th></th>\n      <th>Age</th>\n      <th>AppliedAmount</th>\n      <th>DebtToIncome</th>\n      <th>LiabilitiesTotal</th>\n      <th>LoanDuration</th>\n      <th>NewCreditCustomer</th>\n      <th>WOECountry</th>\n      <th>WOEEducation</th>\n      <th>WOEUseOfLoan</th>\n      <th>WOEWorkExperience</th>\n    </tr>\n  </thead>\n  <tbody>\n    <tr>\n      <th>0</th>\n      <td>53</td>\n      <td>2125.0000</td>\n      <td>26.2900</td>\n      <td>485.0900</td>\n      <td>60</td>\n      <td>0</td>\n      <td>-0.4964</td>\n      <td>-0.2142</td>\n      <td>-0.0249</td>\n      <td>0.0350</td>\n    </tr>\n    <tr>\n      <th>1</th>\n      <td>50</td>\n      <td>3000.0000</td>\n      <td>30.5800</td>\n      <td>736.4500</td>\n      <td>60</td>\n      <td>0</td>\n      <td>-0.4964</td>\n      <td>-0.2081</td>\n      <td>-0.0249</td>\n      <td>0.0350</td>\n    </tr>\n    <tr>\n      <th>2</th>\n      <td>44</td>\n      <td>10630.0000</td>\n      <td>26.7100</td>\n      <td>905.0000</td>\n      <td>60</td>\n      <td>1</td>\n      <td>-0.4964</td>\n      <td>-0.2142</td>\n      <td>-0.0249</td>\n      <td>0.0350</td>\n    </tr>\n    <tr>\n      <th>3</th>\n      <td>42</td>\n      <td>1500.0000</td>\n      <td>7.3600</td>\n      <td>350.0000</td>\n      <td>60</td>\n      <td>1</td>\n      <td>0.9821</td>\n      <td>0.3224</td>\n      <td>-0.0249</td>\n      <td>-0.0213</td>\n    </tr>\n    <tr>\n      <th>4</th>\n      <td>34</td>\n      <td>1595.0000</td>\n      <td>36.0400</td>\n      <td>940.0000</td>\n      <td>48</td>\n      <td>1</td>\n      <td>0.9821</td>\n      <td>-0.2142</td>\n      <td>0.0271</td>\n      <td>-0.0213</td>\n    </tr>\n    <tr>\n      <th>...</th>\n      <td>...</td>\n      <td>...</td>\n      <td>...</td>\n      <td>...</td>\n      <td>...</td>\n      <td>...</td>\n      <td>...</td>\n      <td>...</td>\n      <td>...</td>\n      <td>...</td>\n    </tr>\n    <tr>\n      <th>34740</th>\n      <td>38</td>\n      <td>2000.0000</td>\n      <td>9.4000</td>\n      <td>830.0000</td>\n      <td>60</td>\n      <td>1</td>\n      <td>0.7346</td>\n      <td>0.5210</td>\n      <td>0.0271</td>\n      <td>-0.0213</td>\n    </tr>\n    <tr>\n      <th>34741</th>\n      <td>37</td>\n      <td>7440.0000</td>\n      <td>69.7700</td>\n      <td>2488.0900</td>\n      <td>60</td>\n      <td>0</td>\n      <td>0.7346</td>\n      <td>-0.2142</td>\n      <td>-0.0249</td>\n      <td>0.0350</td>\n    </tr>\n    <tr>\n      <th>34742</th>\n      <td>37</td>\n      <td>1595.0000</td>\n      <td>30.1300</td>\n      <td>1877.0000</td>\n      <td>60</td>\n      <td>0</td>\n      <td>0.9821</td>\n      <td>0.5210</td>\n      <td>0.0271</td>\n      <td>0.0350</td>\n    </tr>\n    <tr>\n      <th>34743</th>\n      <td>58</td>\n      <td>3000.0000</td>\n      <td>25.3500</td>\n      <td>359.0000</td>\n      <td>60</td>\n      <td>1</td>\n      <td>-0.4964</td>\n      <td>0.5210</td>\n      <td>0.0271</td>\n      <td>0.0350</td>\n    </tr>\n    <tr>\n      <th>34744</th>\n      <td>64</td>\n      <td>1300.0000</td>\n      <td>56.5900</td>\n      <td>804.2000</td>\n      <td>48</td>\n      <td>0</td>\n      <td>-0.4964</td>\n      <td>-0.2142</td>\n      <td>0.0271</td>\n      <td>0.0350</td>\n    </tr>\n  </tbody>\n</table>\n<p>34745 rows × 10 columns</p>\n</div>"
     },
     "execution_count": 137,
     "metadata": {},
     "output_type": "execute_result"
    }
   ],
   "source": [
    "sfs = SequentialFeatureSelector(LogisticRegression(),\n",
    "                                k_features='best',\n",
    "                                forward=True,\n",
    "                                floating=False, \n",
    "                                verbose=2,\n",
    "                                scoring='accuracy',\n",
    "                                cv=5)\n",
    "selected_features = sfs.fit(x_train, y_train)\n",
    "selected_columns = selected_features.k_feature_idx_\n",
    "\n",
    "\n",
    "print(\"Selected features:\", selected_features.k_feature_idx_)\n",
    "\n",
    "\n",
    "x.iloc[:, np.asarray(selected_features.k_feature_idx_)]"
   ],
   "metadata": {
    "collapsed": false,
    "ExecuteTime": {
     "end_time": "2023-12-28T18:14:07.991688700Z",
     "start_time": "2023-12-28T18:13:40.783844300Z"
    }
   },
   "id": "94f55a107c217522"
  },
  {
   "cell_type": "markdown",
   "source": [
    "## Logistic Regression with columns after Feature Selection"
   ],
   "metadata": {
    "collapsed": false
   },
   "id": "27932fd060ed5cf7"
  },
  {
   "cell_type": "code",
   "execution_count": 126,
   "outputs": [
    {
     "name": "stdout",
     "output_type": "stream",
     "text": [
      "Accuracy: 0.6756367822708303\n",
      "Classification Report:\n",
      "               precision    recall  f1-score   support\n",
      "\n",
      "           0       0.65      0.58      0.61      3070\n",
      "           1       0.69      0.75      0.72      3879\n",
      "\n",
      "    accuracy                           0.68      6949\n",
      "   macro avg       0.67      0.67      0.67      6949\n",
      "weighted avg       0.67      0.68      0.67      6949\n",
      "\n",
      "ROC AUC Score: 0.7274641370513406\n"
     ]
    }
   ],
   "source": [
    "x_test_after_feature_selection = x_test[:, np.asarray(selected_features.k_feature_idx_)]\n",
    "x_train_after_feature_selection = x_train[:, np.asarray(selected_features.k_feature_idx_)]\n",
    "\n",
    "\n",
    "logistic_regression_model = LogisticRegression()\n",
    "logistic_regression_model.fit(x_train_after_feature_selection, y_train)\n",
    "y_pred = logistic_regression_model.predict(x_test_after_feature_selection)\n",
    "\n",
    "\n",
    "print(\"Accuracy:\", accuracy_score(y_test, y_pred))\n",
    "print(\"Classification Report:\\n\", classification_report(y_test, y_pred))\n",
    "print(\"ROC AUC Score:\", roc_auc_score(y_test, logistic_regression_model.predict_proba(x_test_after_feature_selection)[:, 1]))"
   ],
   "metadata": {
    "collapsed": false,
    "ExecuteTime": {
     "end_time": "2023-12-28T17:58:16.875146200Z",
     "start_time": "2023-12-28T17:58:16.656802500Z"
    }
   },
   "id": "8e44ecafca661714"
  },
  {
   "cell_type": "markdown",
   "source": [
    "# LASSO"
   ],
   "metadata": {
    "collapsed": false
   },
   "id": "570c31943efdd689"
  },
  {
   "cell_type": "code",
   "execution_count": 127,
   "outputs": [
    {
     "name": "stdout",
     "output_type": "stream",
     "text": [
      "Best C: 0.01\n",
      "Accuracy: 0.6711757087350698\n",
      "Classification Report:\n",
      "               precision    recall  f1-score   support\n",
      "\n",
      "           0       0.64      0.58      0.61      3070\n",
      "           1       0.69      0.74      0.72      3879\n",
      "\n",
      "    accuracy                           0.67      6949\n",
      "   macro avg       0.67      0.66      0.66      6949\n",
      "weighted avg       0.67      0.67      0.67      6949\n",
      "\n",
      "ROC AUC Score: 0.7264661969193511\n"
     ]
    }
   ],
   "source": [
    "param_grid = {'C': np.logspace(-3, 3, 7)}\n",
    "\n",
    "logreg = LogisticRegression(penalty='l1', solver='liblinear')\n",
    "\n",
    "grid_search = GridSearchCV(logreg, param_grid, cv=5)\n",
    "grid_search.fit(x_train, y_train)\n",
    "\n",
    "best_C = grid_search.best_params_['C']\n",
    "\n",
    "logistic_regression_lasso_model = LogisticRegression(penalty='l1', C=best_C, solver='liblinear')\n",
    "logistic_regression_lasso_model.fit(x_train, y_train)\n",
    "\n",
    "y_pred = logistic_regression_lasso_model.predict(x_test)\n",
    "\n",
    "print(\"Best C:\", best_C)\n",
    "print(\"Accuracy:\", accuracy_score(y_test, y_pred))\n",
    "print(\"Classification Report:\\n\", classification_report(y_test, y_pred))\n",
    "print(\"ROC AUC Score:\", roc_auc_score(y_test, logistic_regression_lasso_model.predict_proba(x_test)[:, 1]))"
   ],
   "metadata": {
    "collapsed": false,
    "ExecuteTime": {
     "end_time": "2023-12-28T17:58:18.810375600Z",
     "start_time": "2023-12-28T17:58:16.741031Z"
    }
   },
   "id": "69919e0d07d020c"
  },
  {
   "cell_type": "code",
   "execution_count": 128,
   "outputs": [
    {
     "data": {
      "text/plain": "<Figure size 640x480 with 1 Axes>",
      "image/png": "[encoded data removed]"
     },
     "metadata": {},
     "output_type": "display_data"
    }
   ],
   "source": [
    "y_pred_proba = logistic_regression_lasso_model.predict_proba(x_test)[::,1]\n",
    "fpr, tpr, _ = metrics.roc_curve(y_test,  y_pred_proba)\n",
    "\n",
    "plt.plot(fpr,tpr)\n",
    "plt.ylabel('True Positive Rate')\n",
    "plt.xlabel('False Positive Rate')\n",
    "plt.show()"
   ],
   "metadata": {
    "collapsed": false,
    "ExecuteTime": {
     "end_time": "2023-12-28T17:58:18.942473700Z",
     "start_time": "2023-12-28T17:58:18.786625Z"
    }
   },
   "id": "e63c1194f929b7ec"
  },
  {
   "cell_type": "markdown",
   "source": [
    "# RIDGE"
   ],
   "metadata": {
    "collapsed": false
   },
   "id": "db9b00ccbc7824f4"
  },
  {
   "cell_type": "code",
   "execution_count": 129,
   "outputs": [
    {
     "name": "stdout",
     "output_type": "stream",
     "text": [
      "C parameter grid: [   0.001    0.01     0.1      1.      10.     100.    1000.   ]\n",
      "Best C: 0.001\n",
      "Accuracy: 0.6716074255288531\n",
      "Classification Report:\n",
      "               precision    recall  f1-score   support\n",
      "\n",
      "           0       0.65      0.56      0.60      3070\n",
      "           1       0.69      0.76      0.72      3879\n",
      "\n",
      "    accuracy                           0.67      6949\n",
      "   macro avg       0.67      0.66      0.66      6949\n",
      "weighted avg       0.67      0.67      0.67      6949\n",
      "\n",
      "ROC AUC Score: 0.7259262478240387\n"
     ]
    }
   ],
   "source": [
    "param_grid = {'C': np.logspace(-3, 3, 7)}\n",
    "\n",
    "logreg = LogisticRegression(penalty='l2')\n",
    "\n",
    "grid_search = GridSearchCV(logreg, param_grid, cv=5)\n",
    "grid_search.fit(x_train, y_train)\n",
    "\n",
    "best_C = grid_search.best_params_['C']\n",
    "\n",
    "logistic_regression_ridge_model = LogisticRegression(penalty='l2', C=best_C)\n",
    "logistic_regression_ridge_model.fit(x_train, y_train)\n",
    "\n",
    "y_pred = logistic_regression_ridge_model.predict(x_test)\n",
    "\n",
    "print(\"C parameter grid:\", param_grid['C'])\n",
    "print(\"Best C:\", best_C)\n",
    "print(\"Accuracy:\", accuracy_score(y_test, y_pred))\n",
    "print(\"Classification Report:\\n\", classification_report(y_test, y_pred))\n",
    "print(\"ROC AUC Score:\", roc_auc_score(y_test, logistic_regression_ridge_model.predict_proba(x_test)[:, 1]))"
   ],
   "metadata": {
    "collapsed": false,
    "ExecuteTime": {
     "end_time": "2023-12-28T17:58:20.806460200Z",
     "start_time": "2023-12-28T17:58:18.942473700Z"
    }
   },
   "id": "6f07110652c0f725"
  },
  {
   "cell_type": "code",
   "execution_count": 130,
   "outputs": [
    {
     "data": {
      "text/plain": "<Figure size 640x480 with 1 Axes>",
      "image/png": "[encoded data removed]"
     },
     "metadata": {},
     "output_type": "display_data"
    }
   ],
   "source": [
    "y_pred_proba = logistic_regression_ridge_model.predict_proba(x_test)[::,1]\n",
    "fpr, tpr, _ = metrics.roc_curve(y_test,  y_pred_proba)\n",
    "\n",
    "plt.plot(fpr,tpr)\n",
    "plt.ylabel('True Positive Rate')\n",
    "plt.xlabel('False Positive Rate')\n",
    "plt.show()"
   ],
   "metadata": {
    "collapsed": false,
    "ExecuteTime": {
     "end_time": "2023-12-28T17:58:20.936024400Z",
     "start_time": "2023-12-28T17:58:20.793285300Z"
    }
   },
   "id": "9b024c4eeaa58c48"
  }
 ],
 "metadata": {
  "kernelspec": {
   "display_name": "Python 3",
   "language": "python",
   "name": "python3"
  },
  "language_info": {
   "codemirror_mode": {
    "name": "ipython",
    "version": 2
   },
   "file_extension": ".py",
   "mimetype": "text/x-python",
   "name": "python",
   "nbconvert_exporter": "python",
   "pygments_lexer": "ipython2",
   "version": "2.7.6"
  }
 },
 "nbformat": 4,
 "nbformat_minor": 5
}
