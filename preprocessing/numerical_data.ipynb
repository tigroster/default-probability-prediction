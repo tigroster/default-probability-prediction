{
 "cells": [
  {
   "cell_type": "code",
   "execution_count": 1,
   "metadata": {
    "collapsed": true,
    "ExecuteTime": {
     "end_time": "2023-12-28T14:58:50.747513800Z",
     "start_time": "2023-12-28T14:58:49.809331400Z"
    }
   },
   "outputs": [],
   "source": [
    "import copy\n",
    "import matplotlib.pyplot as plt\n",
    "import pandas as pd\n",
    "import numpy as np\n",
    "\n",
    "np.set_printoptions(precision=4, suppress=True)\n",
    "pd.set_option('display.float_format', lambda x: '%.4f' % x)"
   ]
  },
  {
   "cell_type": "code",
   "execution_count": 26,
   "outputs": [
    {
     "data": {
      "text/plain": "       Default  Age  AppliedAmount Country  DebtToIncome   Education  \\\n0         True   53      2125.0000      EE       26.2900   Secondary   \n1         True   50      3000.0000      EE       30.5800      Higher   \n2         True   44     10630.0000      EE       26.7100   Secondary   \n3         True   42      1500.0000      ES        7.3600       Basic   \n4         True   34      1595.0000      ES       36.0400   Secondary   \n...        ...  ...            ...     ...           ...         ...   \n34740     True   38      2000.0000      FI        9.4000  Vocational   \n34741    False   37      7440.0000      FI       69.7700   Secondary   \n34742    False   37      1595.0000      ES       30.1300  Vocational   \n34743    False   58      3000.0000      EE       25.3500  Vocational   \n34744     True   64      1300.0000      EE       56.5900   Secondary   \n\n      EmploymentDurationCurrentEmployer EmploymentStatus  FreeCash  Gender  \\\n0                        MoreThan5Years       Unemployed   10.9200  Female   \n1                        MoreThan5Years    Self-employed   78.8000  Female   \n2                        LessThan3Years    Self-employed  349.4300    Male   \n3                             3To5Years         Employed  449.4700    Male   \n4                        LessThan3Years       Unemployed   95.8100  Female   \n...                                 ...              ...       ...     ...   \n34740                         3To5Years         Employed 1393.8900  Female   \n34741                    MoreThan5Years         Employed    5.5100    Male   \n34742                    MoreThan5Years         Employed   67.9200    Male   \n34743                    LessThan3Years         Employed   11.2900  Female   \n34744                    MoreThan5Years    Self-employed  116.3800    Male   \n\n      HomeOwnershipType  IncomeTotal  LiabilitiesTotal  LoanDuration  \\\n0                 Owner     354.0000          485.0900            60   \n1                 Owner     900.0000          736.4500            60   \n2                Tenant    1200.0000          905.0000            60   \n3                 Other     863.0000          350.0000            60   \n4                Tenant     697.0000          940.0000            48   \n...                 ...          ...               ...           ...   \n34740            Tenant    2300.0000          830.0000            60   \n34741            Tenant    2172.0000         2488.0900            60   \n34742            Tenant    1550.0000         1877.0000            60   \n34743             Owner     350.0000          359.0000            60   \n34744             Owner     867.0000          804.2000            48   \n\n      MaritalStatus  NewCreditCustomer  NrOfDependants OccupationArea  \\\n0        Cohabitant              False          0.0000          Other   \n1        Cohabitant              False          0.0000       Commerce   \n2            Single               True          1.0000        Service   \n3        Cohabitant               True          0.0000          Other   \n4            Single               True          2.0000          Other   \n...             ...                ...             ...            ...   \n34740    Cohabitant               True          0.0000          Other   \n34741        Single              False          0.0000        Service   \n34742        Single              False          0.0000        Service   \n34743    Cohabitant               True          0.0000          Other   \n34744    Cohabitant              False          0.0000       Industry   \n\n       UseOfLoan   WorkExperience  \n0      Financial  MoreThan15Years  \n1      Financial  MoreThan15Years  \n2      Financial  MoreThan15Years  \n3      Financial       5To15Years  \n4       Personal       5To15Years  \n...          ...              ...  \n34740   Personal       5To15Years  \n34741  Financial  MoreThan15Years  \n34742   Personal  MoreThan15Years  \n34743   Personal  MoreThan15Years  \n34744   Personal  MoreThan15Years  \n\n[34745 rows x 20 columns]",
      "text/html": "<div>\n<style scoped>\n    .dataframe tbody tr th:only-of-type {\n        vertical-align: middle;\n    }\n\n    .dataframe tbody tr th {\n        vertical-align: top;\n    }\n\n    .dataframe thead th {\n        text-align: right;\n    }\n</style>\n<table border=\"1\" class=\"dataframe\">\n  <thead>\n    <tr style=\"text-align: right;\">\n      <th></th>\n      <th>Default</th>\n      <th>Age</th>\n      <th>AppliedAmount</th>\n      <th>Country</th>\n      <th>DebtToIncome</th>\n      <th>Education</th>\n      <th>EmploymentDurationCurrentEmployer</th>\n      <th>EmploymentStatus</th>\n      <th>FreeCash</th>\n      <th>Gender</th>\n      <th>HomeOwnershipType</th>\n      <th>IncomeTotal</th>\n      <th>LiabilitiesTotal</th>\n      <th>LoanDuration</th>\n      <th>MaritalStatus</th>\n      <th>NewCreditCustomer</th>\n      <th>NrOfDependants</th>\n      <th>OccupationArea</th>\n      <th>UseOfLoan</th>\n      <th>WorkExperience</th>\n    </tr>\n  </thead>\n  <tbody>\n    <tr>\n      <th>0</th>\n      <td>True</td>\n      <td>53</td>\n      <td>2125.0000</td>\n      <td>EE</td>\n      <td>26.2900</td>\n      <td>Secondary</td>\n      <td>MoreThan5Years</td>\n      <td>Unemployed</td>\n      <td>10.9200</td>\n      <td>Female</td>\n      <td>Owner</td>\n      <td>354.0000</td>\n      <td>485.0900</td>\n      <td>60</td>\n      <td>Cohabitant</td>\n      <td>False</td>\n      <td>0.0000</td>\n      <td>Other</td>\n      <td>Financial</td>\n      <td>MoreThan15Years</td>\n    </tr>\n    <tr>\n      <th>1</th>\n      <td>True</td>\n      <td>50</td>\n      <td>3000.0000</td>\n      <td>EE</td>\n      <td>30.5800</td>\n      <td>Higher</td>\n      <td>MoreThan5Years</td>\n      <td>Self-employed</td>\n      <td>78.8000</td>\n      <td>Female</td>\n      <td>Owner</td>\n      <td>900.0000</td>\n      <td>736.4500</td>\n      <td>60</td>\n      <td>Cohabitant</td>\n      <td>False</td>\n      <td>0.0000</td>\n      <td>Commerce</td>\n      <td>Financial</td>\n      <td>MoreThan15Years</td>\n    </tr>\n    <tr>\n      <th>2</th>\n      <td>True</td>\n      <td>44</td>\n      <td>10630.0000</td>\n      <td>EE</td>\n      <td>26.7100</td>\n      <td>Secondary</td>\n      <td>LessThan3Years</td>\n      <td>Self-employed</td>\n      <td>349.4300</td>\n      <td>Male</td>\n      <td>Tenant</td>\n      <td>1200.0000</td>\n      <td>905.0000</td>\n      <td>60</td>\n      <td>Single</td>\n      <td>True</td>\n      <td>1.0000</td>\n      <td>Service</td>\n      <td>Financial</td>\n      <td>MoreThan15Years</td>\n    </tr>\n    <tr>\n      <th>3</th>\n      <td>True</td>\n      <td>42</td>\n      <td>1500.0000</td>\n      <td>ES</td>\n      <td>7.3600</td>\n      <td>Basic</td>\n      <td>3To5Years</td>\n      <td>Employed</td>\n      <td>449.4700</td>\n      <td>Male</td>\n      <td>Other</td>\n      <td>863.0000</td>\n      <td>350.0000</td>\n      <td>60</td>\n      <td>Cohabitant</td>\n      <td>True</td>\n      <td>0.0000</td>\n      <td>Other</td>\n      <td>Financial</td>\n      <td>5To15Years</td>\n    </tr>\n    <tr>\n      <th>4</th>\n      <td>True</td>\n      <td>34</td>\n      <td>1595.0000</td>\n      <td>ES</td>\n      <td>36.0400</td>\n      <td>Secondary</td>\n      <td>LessThan3Years</td>\n      <td>Unemployed</td>\n      <td>95.8100</td>\n      <td>Female</td>\n      <td>Tenant</td>\n      <td>697.0000</td>\n      <td>940.0000</td>\n      <td>48</td>\n      <td>Single</td>\n      <td>True</td>\n      <td>2.0000</td>\n      <td>Other</td>\n      <td>Personal</td>\n      <td>5To15Years</td>\n    </tr>\n    <tr>\n      <th>...</th>\n      <td>...</td>\n      <td>...</td>\n      <td>...</td>\n      <td>...</td>\n      <td>...</td>\n      <td>...</td>\n      <td>...</td>\n      <td>...</td>\n      <td>...</td>\n      <td>...</td>\n      <td>...</td>\n      <td>...</td>\n      <td>...</td>\n      <td>...</td>\n      <td>...</td>\n      <td>...</td>\n      <td>...</td>\n      <td>...</td>\n      <td>...</td>\n      <td>...</td>\n    </tr>\n    <tr>\n      <th>34740</th>\n      <td>True</td>\n      <td>38</td>\n      <td>2000.0000</td>\n      <td>FI</td>\n      <td>9.4000</td>\n      <td>Vocational</td>\n      <td>3To5Years</td>\n      <td>Employed</td>\n      <td>1393.8900</td>\n      <td>Female</td>\n      <td>Tenant</td>\n      <td>2300.0000</td>\n      <td>830.0000</td>\n      <td>60</td>\n      <td>Cohabitant</td>\n      <td>True</td>\n      <td>0.0000</td>\n      <td>Other</td>\n      <td>Personal</td>\n      <td>5To15Years</td>\n    </tr>\n    <tr>\n      <th>34741</th>\n      <td>False</td>\n      <td>37</td>\n      <td>7440.0000</td>\n      <td>FI</td>\n      <td>69.7700</td>\n      <td>Secondary</td>\n      <td>MoreThan5Years</td>\n      <td>Employed</td>\n      <td>5.5100</td>\n      <td>Male</td>\n      <td>Tenant</td>\n      <td>2172.0000</td>\n      <td>2488.0900</td>\n      <td>60</td>\n      <td>Single</td>\n      <td>False</td>\n      <td>0.0000</td>\n      <td>Service</td>\n      <td>Financial</td>\n      <td>MoreThan15Years</td>\n    </tr>\n    <tr>\n      <th>34742</th>\n      <td>False</td>\n      <td>37</td>\n      <td>1595.0000</td>\n      <td>ES</td>\n      <td>30.1300</td>\n      <td>Vocational</td>\n      <td>MoreThan5Years</td>\n      <td>Employed</td>\n      <td>67.9200</td>\n      <td>Male</td>\n      <td>Tenant</td>\n      <td>1550.0000</td>\n      <td>1877.0000</td>\n      <td>60</td>\n      <td>Single</td>\n      <td>False</td>\n      <td>0.0000</td>\n      <td>Service</td>\n      <td>Personal</td>\n      <td>MoreThan15Years</td>\n    </tr>\n    <tr>\n      <th>34743</th>\n      <td>False</td>\n      <td>58</td>\n      <td>3000.0000</td>\n      <td>EE</td>\n      <td>25.3500</td>\n      <td>Vocational</td>\n      <td>LessThan3Years</td>\n      <td>Employed</td>\n      <td>11.2900</td>\n      <td>Female</td>\n      <td>Owner</td>\n      <td>350.0000</td>\n      <td>359.0000</td>\n      <td>60</td>\n      <td>Cohabitant</td>\n      <td>True</td>\n      <td>0.0000</td>\n      <td>Other</td>\n      <td>Personal</td>\n      <td>MoreThan15Years</td>\n    </tr>\n    <tr>\n      <th>34744</th>\n      <td>True</td>\n      <td>64</td>\n      <td>1300.0000</td>\n      <td>EE</td>\n      <td>56.5900</td>\n      <td>Secondary</td>\n      <td>MoreThan5Years</td>\n      <td>Self-employed</td>\n      <td>116.3800</td>\n      <td>Male</td>\n      <td>Owner</td>\n      <td>867.0000</td>\n      <td>804.2000</td>\n      <td>48</td>\n      <td>Cohabitant</td>\n      <td>False</td>\n      <td>0.0000</td>\n      <td>Industry</td>\n      <td>Personal</td>\n      <td>MoreThan15Years</td>\n    </tr>\n  </tbody>\n</table>\n<p>34745 rows × 20 columns</p>\n</div>"
     },
     "execution_count": 26,
     "metadata": {},
     "output_type": "execute_result"
    }
   ],
   "source": [
    "df = pd.read_csv('../data/ReducedLoanData.csv', low_memory=False)\n",
    "# if df['Gender'].isna().sum() != 0:\n",
    "#     value_counts = df['Gender'].value_counts()\n",
    "#     values = list(set(df['Gender'].unique()) - {np.nan})\n",
    "#     total_count = sum([value_counts[v] for v in values])\n",
    "#     value_probabilities = [value_counts[v] / total_count for v in values]\n",
    "#     nan_count = df['Gender'].isna().sum()\n",
    "#     df.loc[df['Gender'].isna(), 'Gender'] = np.random.choice(values, size=nan_count, p=value_probabilities)\n",
    "df"
   ],
   "metadata": {
    "collapsed": false,
    "ExecuteTime": {
     "end_time": "2023-12-28T15:19:32.604784100Z",
     "start_time": "2023-12-28T15:19:31.880625600Z"
    }
   }
  },
  {
   "cell_type": "code",
   "execution_count": 27,
   "outputs": [
    {
     "data": {
      "text/plain": "['Country',\n 'Education',\n 'EmploymentDurationCurrentEmployer',\n 'EmploymentStatus',\n 'Gender',\n 'HomeOwnershipType',\n 'MaritalStatus',\n 'OccupationArea',\n 'UseOfLoan',\n 'WorkExperience']"
     },
     "execution_count": 27,
     "metadata": {},
     "output_type": "execute_result"
    }
   ],
   "source": [
    "categorical_columns = list(set(df.columns) - set(df._get_numeric_data().columns))\n",
    "categorical_columns = sorted(categorical_columns)\n",
    "categorical_columns"
   ],
   "metadata": {
    "collapsed": false,
    "ExecuteTime": {
     "end_time": "2023-12-28T15:19:34.811927200Z",
     "start_time": "2023-12-28T15:19:34.780523Z"
    }
   }
  },
  {
   "cell_type": "code",
   "execution_count": 28,
   "outputs": [
    {
     "name": "stdout",
     "output_type": "stream",
     "text": [
      "WOECountry:\n",
      "    EE: -0.4964489173416248\n",
      "    ES: 0.9820840087956748\n",
      "    FI: 0.7346433437112573\n",
      "    SK: 2.0040101914830024\n",
      "WOEEducation:\n",
      "    Secondary: -0.2142185510615049\n",
      "    Higher: -0.2081000073841618\n",
      "    Basic: 0.322383860752196\n",
      "    Vocational: 0.5210364189757211\n",
      "WOEEmploymentDurationCurrentEmployer:\n",
      "    MoreThan5Years: -0.026898308419436426\n",
      "    LessThan3Years: 0.014636667158690404\n",
      "    3To5Years: 0.025634386879353627\n",
      "WOEEmploymentStatus:\n",
      "    Unemployed: 0.46493481741133447\n",
      "    Self-employed: -0.07319540182838082\n",
      "    Employed: -0.017054107357713552\n",
      "WOEGender:\n",
      "    Female: -0.03062934131370784\n",
      "    Male: 0.02423330564590897\n",
      "WOEHomeOwnershipType:\n",
      "    Owner: -0.2004496647459641\n",
      "    Tenant: 0.10635183287054537\n",
      "    Other: 0.20523599773080536\n",
      "WOEMaritalStatus:\n",
      "    Cohabitant: -0.10843725466909426\n",
      "    Single: 0.13549521411489918\n",
      "WOEOccupationArea:\n",
      "    Other: 0.11047103307378767\n",
      "    Commerce: 0.04889913119571511\n",
      "    Service: -0.0771559067483388\n",
      "    Industry: -0.03109521870696129\n",
      "WOEUseOfLoan:\n",
      "    Financial: -0.02485575315688292\n",
      "    Personal: 0.02706671803193261\n",
      "WOEWorkExperience:\n",
      "    MoreThan15Years: 0.035007830478422854\n",
      "    5To15Years: -0.02133307100041729\n",
      "    LessThan5Years: -0.026110817337752272\n"
     ]
    }
   ],
   "source": [
    "target = 'Default'\n",
    "t_counts = df[target].value_counts()\n",
    "\n",
    "for c in categorical_columns:\n",
    "    values = df[c].unique()\n",
    "    c_counts_positive = df[df[target] == True][c].value_counts().to_dict()\n",
    "    c_counts_negative = df[df[target] == False][c].value_counts().to_dict()\n",
    "    woe_c = 'WOE' + c\n",
    "    print(f'{woe_c}:')\n",
    "    df[woe_c] = 0\n",
    "    for v in values:\n",
    "        woe_v = np.log((c_counts_positive[v] / t_counts[True]) / (c_counts_negative[v] / t_counts[False]))\n",
    "        print(f'    {v}: {woe_v}')\n",
    "        df.loc[df[c] == v, woe_c] = woe_v"
   ],
   "metadata": {
    "collapsed": false,
    "ExecuteTime": {
     "end_time": "2023-12-28T15:19:36.284392200Z",
     "start_time": "2023-12-28T15:19:36.080655200Z"
    }
   }
  },
  {
   "cell_type": "code",
   "execution_count": 29,
   "outputs": [
    {
     "data": {
      "text/plain": "       Default  Age  AppliedAmount Country  DebtToIncome   Education  \\\n0         True   53      2125.0000      EE       26.2900   Secondary   \n1         True   50      3000.0000      EE       30.5800      Higher   \n2         True   44     10630.0000      EE       26.7100   Secondary   \n3         True   42      1500.0000      ES        7.3600       Basic   \n4         True   34      1595.0000      ES       36.0400   Secondary   \n...        ...  ...            ...     ...           ...         ...   \n34740     True   38      2000.0000      FI        9.4000  Vocational   \n34741    False   37      7440.0000      FI       69.7700   Secondary   \n34742    False   37      1595.0000      ES       30.1300  Vocational   \n34743    False   58      3000.0000      EE       25.3500  Vocational   \n34744     True   64      1300.0000      EE       56.5900   Secondary   \n\n      EmploymentDurationCurrentEmployer EmploymentStatus  FreeCash  Gender  \\\n0                        MoreThan5Years       Unemployed   10.9200  Female   \n1                        MoreThan5Years    Self-employed   78.8000  Female   \n2                        LessThan3Years    Self-employed  349.4300    Male   \n3                             3To5Years         Employed  449.4700    Male   \n4                        LessThan3Years       Unemployed   95.8100  Female   \n...                                 ...              ...       ...     ...   \n34740                         3To5Years         Employed 1393.8900  Female   \n34741                    MoreThan5Years         Employed    5.5100    Male   \n34742                    MoreThan5Years         Employed   67.9200    Male   \n34743                    LessThan3Years         Employed   11.2900  Female   \n34744                    MoreThan5Years    Self-employed  116.3800    Male   \n\n       ... WOECountry  WOEEducation  WOEEmploymentDurationCurrentEmployer  \\\n0      ...    -0.4964       -0.2142                               -0.0269   \n1      ...    -0.4964       -0.2081                               -0.0269   \n2      ...    -0.4964       -0.2142                                0.0146   \n3      ...     0.9821        0.3224                                0.0256   \n4      ...     0.9821       -0.2142                                0.0146   \n...    ...        ...           ...                                   ...   \n34740  ...     0.7346        0.5210                                0.0256   \n34741  ...     0.7346       -0.2142                               -0.0269   \n34742  ...     0.9821        0.5210                               -0.0269   \n34743  ...    -0.4964        0.5210                                0.0146   \n34744  ...    -0.4964       -0.2142                               -0.0269   \n\n       WOEEmploymentStatus WOEGender  WOEHomeOwnershipType  WOEMaritalStatus  \\\n0                   0.4649   -0.0306               -0.2004           -0.1084   \n1                  -0.0732   -0.0306               -0.2004           -0.1084   \n2                  -0.0732    0.0242                0.1064            0.1355   \n3                  -0.0171    0.0242                0.2052           -0.1084   \n4                   0.4649   -0.0306                0.1064            0.1355   \n...                    ...       ...                   ...               ...   \n34740              -0.0171   -0.0306                0.1064           -0.1084   \n34741              -0.0171    0.0242                0.1064            0.1355   \n34742              -0.0171    0.0242                0.1064            0.1355   \n34743              -0.0171   -0.0306               -0.2004           -0.1084   \n34744              -0.0732    0.0242               -0.2004           -0.1084   \n\n      WOEOccupationArea WOEUseOfLoan WOEWorkExperience  \n0                0.1105      -0.0249            0.0350  \n1                0.0489      -0.0249            0.0350  \n2               -0.0772      -0.0249            0.0350  \n3                0.1105      -0.0249           -0.0213  \n4                0.1105       0.0271           -0.0213  \n...                 ...          ...               ...  \n34740            0.1105       0.0271           -0.0213  \n34741           -0.0772      -0.0249            0.0350  \n34742           -0.0772       0.0271            0.0350  \n34743            0.1105       0.0271            0.0350  \n34744           -0.0311       0.0271            0.0350  \n\n[34745 rows x 30 columns]",
      "text/html": "<div>\n<style scoped>\n    .dataframe tbody tr th:only-of-type {\n        vertical-align: middle;\n    }\n\n    .dataframe tbody tr th {\n        vertical-align: top;\n    }\n\n    .dataframe thead th {\n        text-align: right;\n    }\n</style>\n<table border=\"1\" class=\"dataframe\">\n  <thead>\n    <tr style=\"text-align: right;\">\n      <th></th>\n      <th>Default</th>\n      <th>Age</th>\n      <th>AppliedAmount</th>\n      <th>Country</th>\n      <th>DebtToIncome</th>\n      <th>Education</th>\n      <th>EmploymentDurationCurrentEmployer</th>\n      <th>EmploymentStatus</th>\n      <th>FreeCash</th>\n      <th>Gender</th>\n      <th>...</th>\n      <th>WOECountry</th>\n      <th>WOEEducation</th>\n      <th>WOEEmploymentDurationCurrentEmployer</th>\n      <th>WOEEmploymentStatus</th>\n      <th>WOEGender</th>\n      <th>WOEHomeOwnershipType</th>\n      <th>WOEMaritalStatus</th>\n      <th>WOEOccupationArea</th>\n      <th>WOEUseOfLoan</th>\n      <th>WOEWorkExperience</th>\n    </tr>\n  </thead>\n  <tbody>\n    <tr>\n      <th>0</th>\n      <td>True</td>\n      <td>53</td>\n      <td>2125.0000</td>\n      <td>EE</td>\n      <td>26.2900</td>\n      <td>Secondary</td>\n      <td>MoreThan5Years</td>\n      <td>Unemployed</td>\n      <td>10.9200</td>\n      <td>Female</td>\n      <td>...</td>\n      <td>-0.4964</td>\n      <td>-0.2142</td>\n      <td>-0.0269</td>\n      <td>0.4649</td>\n      <td>-0.0306</td>\n      <td>-0.2004</td>\n      <td>-0.1084</td>\n      <td>0.1105</td>\n      <td>-0.0249</td>\n      <td>0.0350</td>\n    </tr>\n    <tr>\n      <th>1</th>\n      <td>True</td>\n      <td>50</td>\n      <td>3000.0000</td>\n      <td>EE</td>\n      <td>30.5800</td>\n      <td>Higher</td>\n      <td>MoreThan5Years</td>\n      <td>Self-employed</td>\n      <td>78.8000</td>\n      <td>Female</td>\n      <td>...</td>\n      <td>-0.4964</td>\n      <td>-0.2081</td>\n      <td>-0.0269</td>\n      <td>-0.0732</td>\n      <td>-0.0306</td>\n      <td>-0.2004</td>\n      <td>-0.1084</td>\n      <td>0.0489</td>\n      <td>-0.0249</td>\n      <td>0.0350</td>\n    </tr>\n    <tr>\n      <th>2</th>\n      <td>True</td>\n      <td>44</td>\n      <td>10630.0000</td>\n      <td>EE</td>\n      <td>26.7100</td>\n      <td>Secondary</td>\n      <td>LessThan3Years</td>\n      <td>Self-employed</td>\n      <td>349.4300</td>\n      <td>Male</td>\n      <td>...</td>\n      <td>-0.4964</td>\n      <td>-0.2142</td>\n      <td>0.0146</td>\n      <td>-0.0732</td>\n      <td>0.0242</td>\n      <td>0.1064</td>\n      <td>0.1355</td>\n      <td>-0.0772</td>\n      <td>-0.0249</td>\n      <td>0.0350</td>\n    </tr>\n    <tr>\n      <th>3</th>\n      <td>True</td>\n      <td>42</td>\n      <td>1500.0000</td>\n      <td>ES</td>\n      <td>7.3600</td>\n      <td>Basic</td>\n      <td>3To5Years</td>\n      <td>Employed</td>\n      <td>449.4700</td>\n      <td>Male</td>\n      <td>...</td>\n      <td>0.9821</td>\n      <td>0.3224</td>\n      <td>0.0256</td>\n      <td>-0.0171</td>\n      <td>0.0242</td>\n      <td>0.2052</td>\n      <td>-0.1084</td>\n      <td>0.1105</td>\n      <td>-0.0249</td>\n      <td>-0.0213</td>\n    </tr>\n    <tr>\n      <th>4</th>\n      <td>True</td>\n      <td>34</td>\n      <td>1595.0000</td>\n      <td>ES</td>\n      <td>36.0400</td>\n      <td>Secondary</td>\n      <td>LessThan3Years</td>\n      <td>Unemployed</td>\n      <td>95.8100</td>\n      <td>Female</td>\n      <td>...</td>\n      <td>0.9821</td>\n      <td>-0.2142</td>\n      <td>0.0146</td>\n      <td>0.4649</td>\n      <td>-0.0306</td>\n      <td>0.1064</td>\n      <td>0.1355</td>\n      <td>0.1105</td>\n      <td>0.0271</td>\n      <td>-0.0213</td>\n    </tr>\n    <tr>\n      <th>...</th>\n      <td>...</td>\n      <td>...</td>\n      <td>...</td>\n      <td>...</td>\n      <td>...</td>\n      <td>...</td>\n      <td>...</td>\n      <td>...</td>\n      <td>...</td>\n      <td>...</td>\n      <td>...</td>\n      <td>...</td>\n      <td>...</td>\n      <td>...</td>\n      <td>...</td>\n      <td>...</td>\n      <td>...</td>\n      <td>...</td>\n      <td>...</td>\n      <td>...</td>\n      <td>...</td>\n    </tr>\n    <tr>\n      <th>34740</th>\n      <td>True</td>\n      <td>38</td>\n      <td>2000.0000</td>\n      <td>FI</td>\n      <td>9.4000</td>\n      <td>Vocational</td>\n      <td>3To5Years</td>\n      <td>Employed</td>\n      <td>1393.8900</td>\n      <td>Female</td>\n      <td>...</td>\n      <td>0.7346</td>\n      <td>0.5210</td>\n      <td>0.0256</td>\n      <td>-0.0171</td>\n      <td>-0.0306</td>\n      <td>0.1064</td>\n      <td>-0.1084</td>\n      <td>0.1105</td>\n      <td>0.0271</td>\n      <td>-0.0213</td>\n    </tr>\n    <tr>\n      <th>34741</th>\n      <td>False</td>\n      <td>37</td>\n      <td>7440.0000</td>\n      <td>FI</td>\n      <td>69.7700</td>\n      <td>Secondary</td>\n      <td>MoreThan5Years</td>\n      <td>Employed</td>\n      <td>5.5100</td>\n      <td>Male</td>\n      <td>...</td>\n      <td>0.7346</td>\n      <td>-0.2142</td>\n      <td>-0.0269</td>\n      <td>-0.0171</td>\n      <td>0.0242</td>\n      <td>0.1064</td>\n      <td>0.1355</td>\n      <td>-0.0772</td>\n      <td>-0.0249</td>\n      <td>0.0350</td>\n    </tr>\n    <tr>\n      <th>34742</th>\n      <td>False</td>\n      <td>37</td>\n      <td>1595.0000</td>\n      <td>ES</td>\n      <td>30.1300</td>\n      <td>Vocational</td>\n      <td>MoreThan5Years</td>\n      <td>Employed</td>\n      <td>67.9200</td>\n      <td>Male</td>\n      <td>...</td>\n      <td>0.9821</td>\n      <td>0.5210</td>\n      <td>-0.0269</td>\n      <td>-0.0171</td>\n      <td>0.0242</td>\n      <td>0.1064</td>\n      <td>0.1355</td>\n      <td>-0.0772</td>\n      <td>0.0271</td>\n      <td>0.0350</td>\n    </tr>\n    <tr>\n      <th>34743</th>\n      <td>False</td>\n      <td>58</td>\n      <td>3000.0000</td>\n      <td>EE</td>\n      <td>25.3500</td>\n      <td>Vocational</td>\n      <td>LessThan3Years</td>\n      <td>Employed</td>\n      <td>11.2900</td>\n      <td>Female</td>\n      <td>...</td>\n      <td>-0.4964</td>\n      <td>0.5210</td>\n      <td>0.0146</td>\n      <td>-0.0171</td>\n      <td>-0.0306</td>\n      <td>-0.2004</td>\n      <td>-0.1084</td>\n      <td>0.1105</td>\n      <td>0.0271</td>\n      <td>0.0350</td>\n    </tr>\n    <tr>\n      <th>34744</th>\n      <td>True</td>\n      <td>64</td>\n      <td>1300.0000</td>\n      <td>EE</td>\n      <td>56.5900</td>\n      <td>Secondary</td>\n      <td>MoreThan5Years</td>\n      <td>Self-employed</td>\n      <td>116.3800</td>\n      <td>Male</td>\n      <td>...</td>\n      <td>-0.4964</td>\n      <td>-0.2142</td>\n      <td>-0.0269</td>\n      <td>-0.0732</td>\n      <td>0.0242</td>\n      <td>-0.2004</td>\n      <td>-0.1084</td>\n      <td>-0.0311</td>\n      <td>0.0271</td>\n      <td>0.0350</td>\n    </tr>\n  </tbody>\n</table>\n<p>34745 rows × 30 columns</p>\n</div>"
     },
     "execution_count": 29,
     "metadata": {},
     "output_type": "execute_result"
    }
   ],
   "source": [
    "df"
   ],
   "metadata": {
    "collapsed": false,
    "ExecuteTime": {
     "end_time": "2023-12-28T15:19:37.615656800Z",
     "start_time": "2023-12-28T15:19:37.568786600Z"
    }
   }
  },
  {
   "cell_type": "code",
   "execution_count": 30,
   "outputs": [
    {
     "data": {
      "text/plain": "       Default  Age  AppliedAmount  DebtToIncome  FreeCash  IncomeTotal  \\\n0            1   53      2125.0000       26.2900   10.9200     354.0000   \n1            1   50      3000.0000       30.5800   78.8000     900.0000   \n2            1   44     10630.0000       26.7100  349.4300    1200.0000   \n3            1   42      1500.0000        7.3600  449.4700     863.0000   \n4            1   34      1595.0000       36.0400   95.8100     697.0000   \n...        ...  ...            ...           ...       ...          ...   \n34740        1   38      2000.0000        9.4000 1393.8900    2300.0000   \n34741        0   37      7440.0000       69.7700    5.5100    2172.0000   \n34742        0   37      1595.0000       30.1300   67.9200    1550.0000   \n34743        0   58      3000.0000       25.3500   11.2900     350.0000   \n34744        1   64      1300.0000       56.5900  116.3800     867.0000   \n\n       LiabilitiesTotal  LoanDuration  NewCreditCustomer  NrOfDependants  \\\n0              485.0900            60                  0          0.0000   \n1              736.4500            60                  0          0.0000   \n2              905.0000            60                  1          1.0000   \n3              350.0000            60                  1          0.0000   \n4              940.0000            48                  1          2.0000   \n...                 ...           ...                ...             ...   \n34740          830.0000            60                  1          0.0000   \n34741         2488.0900            60                  0          0.0000   \n34742         1877.0000            60                  0          0.0000   \n34743          359.0000            60                  1          0.0000   \n34744          804.2000            48                  0          0.0000   \n\n       WOECountry  WOEEducation  WOEEmploymentDurationCurrentEmployer  \\\n0         -0.4964       -0.2142                               -0.0269   \n1         -0.4964       -0.2081                               -0.0269   \n2         -0.4964       -0.2142                                0.0146   \n3          0.9821        0.3224                                0.0256   \n4          0.9821       -0.2142                                0.0146   \n...           ...           ...                                   ...   \n34740      0.7346        0.5210                                0.0256   \n34741      0.7346       -0.2142                               -0.0269   \n34742      0.9821        0.5210                               -0.0269   \n34743     -0.4964        0.5210                                0.0146   \n34744     -0.4964       -0.2142                               -0.0269   \n\n       WOEEmploymentStatus  WOEGender  WOEHomeOwnershipType  WOEMaritalStatus  \\\n0                   0.4649    -0.0306               -0.2004           -0.1084   \n1                  -0.0732    -0.0306               -0.2004           -0.1084   \n2                  -0.0732     0.0242                0.1064            0.1355   \n3                  -0.0171     0.0242                0.2052           -0.1084   \n4                   0.4649    -0.0306                0.1064            0.1355   \n...                    ...        ...                   ...               ...   \n34740              -0.0171    -0.0306                0.1064           -0.1084   \n34741              -0.0171     0.0242                0.1064            0.1355   \n34742              -0.0171     0.0242                0.1064            0.1355   \n34743              -0.0171    -0.0306               -0.2004           -0.1084   \n34744              -0.0732     0.0242               -0.2004           -0.1084   \n\n       WOEOccupationArea  WOEUseOfLoan  WOEWorkExperience  \n0                 0.1105       -0.0249             0.0350  \n1                 0.0489       -0.0249             0.0350  \n2                -0.0772       -0.0249             0.0350  \n3                 0.1105       -0.0249            -0.0213  \n4                 0.1105        0.0271            -0.0213  \n...                  ...           ...                ...  \n34740             0.1105        0.0271            -0.0213  \n34741            -0.0772       -0.0249             0.0350  \n34742            -0.0772        0.0271             0.0350  \n34743             0.1105        0.0271             0.0350  \n34744            -0.0311        0.0271             0.0350  \n\n[34745 rows x 20 columns]",
      "text/html": "<div>\n<style scoped>\n    .dataframe tbody tr th:only-of-type {\n        vertical-align: middle;\n    }\n\n    .dataframe tbody tr th {\n        vertical-align: top;\n    }\n\n    .dataframe thead th {\n        text-align: right;\n    }\n</style>\n<table border=\"1\" class=\"dataframe\">\n  <thead>\n    <tr style=\"text-align: right;\">\n      <th></th>\n      <th>Default</th>\n      <th>Age</th>\n      <th>AppliedAmount</th>\n      <th>DebtToIncome</th>\n      <th>FreeCash</th>\n      <th>IncomeTotal</th>\n      <th>LiabilitiesTotal</th>\n      <th>LoanDuration</th>\n      <th>NewCreditCustomer</th>\n      <th>NrOfDependants</th>\n      <th>WOECountry</th>\n      <th>WOEEducation</th>\n      <th>WOEEmploymentDurationCurrentEmployer</th>\n      <th>WOEEmploymentStatus</th>\n      <th>WOEGender</th>\n      <th>WOEHomeOwnershipType</th>\n      <th>WOEMaritalStatus</th>\n      <th>WOEOccupationArea</th>\n      <th>WOEUseOfLoan</th>\n      <th>WOEWorkExperience</th>\n    </tr>\n  </thead>\n  <tbody>\n    <tr>\n      <th>0</th>\n      <td>1</td>\n      <td>53</td>\n      <td>2125.0000</td>\n      <td>26.2900</td>\n      <td>10.9200</td>\n      <td>354.0000</td>\n      <td>485.0900</td>\n      <td>60</td>\n      <td>0</td>\n      <td>0.0000</td>\n      <td>-0.4964</td>\n      <td>-0.2142</td>\n      <td>-0.0269</td>\n      <td>0.4649</td>\n      <td>-0.0306</td>\n      <td>-0.2004</td>\n      <td>-0.1084</td>\n      <td>0.1105</td>\n      <td>-0.0249</td>\n      <td>0.0350</td>\n    </tr>\n    <tr>\n      <th>1</th>\n      <td>1</td>\n      <td>50</td>\n      <td>3000.0000</td>\n      <td>30.5800</td>\n      <td>78.8000</td>\n      <td>900.0000</td>\n      <td>736.4500</td>\n      <td>60</td>\n      <td>0</td>\n      <td>0.0000</td>\n      <td>-0.4964</td>\n      <td>-0.2081</td>\n      <td>-0.0269</td>\n      <td>-0.0732</td>\n      <td>-0.0306</td>\n      <td>-0.2004</td>\n      <td>-0.1084</td>\n      <td>0.0489</td>\n      <td>-0.0249</td>\n      <td>0.0350</td>\n    </tr>\n    <tr>\n      <th>2</th>\n      <td>1</td>\n      <td>44</td>\n      <td>10630.0000</td>\n      <td>26.7100</td>\n      <td>349.4300</td>\n      <td>1200.0000</td>\n      <td>905.0000</td>\n      <td>60</td>\n      <td>1</td>\n      <td>1.0000</td>\n      <td>-0.4964</td>\n      <td>-0.2142</td>\n      <td>0.0146</td>\n      <td>-0.0732</td>\n      <td>0.0242</td>\n      <td>0.1064</td>\n      <td>0.1355</td>\n      <td>-0.0772</td>\n      <td>-0.0249</td>\n      <td>0.0350</td>\n    </tr>\n    <tr>\n      <th>3</th>\n      <td>1</td>\n      <td>42</td>\n      <td>1500.0000</td>\n      <td>7.3600</td>\n      <td>449.4700</td>\n      <td>863.0000</td>\n      <td>350.0000</td>\n      <td>60</td>\n      <td>1</td>\n      <td>0.0000</td>\n      <td>0.9821</td>\n      <td>0.3224</td>\n      <td>0.0256</td>\n      <td>-0.0171</td>\n      <td>0.0242</td>\n      <td>0.2052</td>\n      <td>-0.1084</td>\n      <td>0.1105</td>\n      <td>-0.0249</td>\n      <td>-0.0213</td>\n    </tr>\n    <tr>\n      <th>4</th>\n      <td>1</td>\n      <td>34</td>\n      <td>1595.0000</td>\n      <td>36.0400</td>\n      <td>95.8100</td>\n      <td>697.0000</td>\n      <td>940.0000</td>\n      <td>48</td>\n      <td>1</td>\n      <td>2.0000</td>\n      <td>0.9821</td>\n      <td>-0.2142</td>\n      <td>0.0146</td>\n      <td>0.4649</td>\n      <td>-0.0306</td>\n      <td>0.1064</td>\n      <td>0.1355</td>\n      <td>0.1105</td>\n      <td>0.0271</td>\n      <td>-0.0213</td>\n    </tr>\n    <tr>\n      <th>...</th>\n      <td>...</td>\n      <td>...</td>\n      <td>...</td>\n      <td>...</td>\n      <td>...</td>\n      <td>...</td>\n      <td>...</td>\n      <td>...</td>\n      <td>...</td>\n      <td>...</td>\n      <td>...</td>\n      <td>...</td>\n      <td>...</td>\n      <td>...</td>\n      <td>...</td>\n      <td>...</td>\n      <td>...</td>\n      <td>...</td>\n      <td>...</td>\n      <td>...</td>\n    </tr>\n    <tr>\n      <th>34740</th>\n      <td>1</td>\n      <td>38</td>\n      <td>2000.0000</td>\n      <td>9.4000</td>\n      <td>1393.8900</td>\n      <td>2300.0000</td>\n      <td>830.0000</td>\n      <td>60</td>\n      <td>1</td>\n      <td>0.0000</td>\n      <td>0.7346</td>\n      <td>0.5210</td>\n      <td>0.0256</td>\n      <td>-0.0171</td>\n      <td>-0.0306</td>\n      <td>0.1064</td>\n      <td>-0.1084</td>\n      <td>0.1105</td>\n      <td>0.0271</td>\n      <td>-0.0213</td>\n    </tr>\n    <tr>\n      <th>34741</th>\n      <td>0</td>\n      <td>37</td>\n      <td>7440.0000</td>\n      <td>69.7700</td>\n      <td>5.5100</td>\n      <td>2172.0000</td>\n      <td>2488.0900</td>\n      <td>60</td>\n      <td>0</td>\n      <td>0.0000</td>\n      <td>0.7346</td>\n      <td>-0.2142</td>\n      <td>-0.0269</td>\n      <td>-0.0171</td>\n      <td>0.0242</td>\n      <td>0.1064</td>\n      <td>0.1355</td>\n      <td>-0.0772</td>\n      <td>-0.0249</td>\n      <td>0.0350</td>\n    </tr>\n    <tr>\n      <th>34742</th>\n      <td>0</td>\n      <td>37</td>\n      <td>1595.0000</td>\n      <td>30.1300</td>\n      <td>67.9200</td>\n      <td>1550.0000</td>\n      <td>1877.0000</td>\n      <td>60</td>\n      <td>0</td>\n      <td>0.0000</td>\n      <td>0.9821</td>\n      <td>0.5210</td>\n      <td>-0.0269</td>\n      <td>-0.0171</td>\n      <td>0.0242</td>\n      <td>0.1064</td>\n      <td>0.1355</td>\n      <td>-0.0772</td>\n      <td>0.0271</td>\n      <td>0.0350</td>\n    </tr>\n    <tr>\n      <th>34743</th>\n      <td>0</td>\n      <td>58</td>\n      <td>3000.0000</td>\n      <td>25.3500</td>\n      <td>11.2900</td>\n      <td>350.0000</td>\n      <td>359.0000</td>\n      <td>60</td>\n      <td>1</td>\n      <td>0.0000</td>\n      <td>-0.4964</td>\n      <td>0.5210</td>\n      <td>0.0146</td>\n      <td>-0.0171</td>\n      <td>-0.0306</td>\n      <td>-0.2004</td>\n      <td>-0.1084</td>\n      <td>0.1105</td>\n      <td>0.0271</td>\n      <td>0.0350</td>\n    </tr>\n    <tr>\n      <th>34744</th>\n      <td>1</td>\n      <td>64</td>\n      <td>1300.0000</td>\n      <td>56.5900</td>\n      <td>116.3800</td>\n      <td>867.0000</td>\n      <td>804.2000</td>\n      <td>48</td>\n      <td>0</td>\n      <td>0.0000</td>\n      <td>-0.4964</td>\n      <td>-0.2142</td>\n      <td>-0.0269</td>\n      <td>-0.0732</td>\n      <td>0.0242</td>\n      <td>-0.2004</td>\n      <td>-0.1084</td>\n      <td>-0.0311</td>\n      <td>0.0271</td>\n      <td>0.0350</td>\n    </tr>\n  </tbody>\n</table>\n<p>34745 rows × 20 columns</p>\n</div>"
     },
     "execution_count": 30,
     "metadata": {},
     "output_type": "execute_result"
    }
   ],
   "source": [
    "numerical_df = df.drop(columns=categorical_columns)\n",
    "numerical_df['NewCreditCustomer'] = numerical_df['NewCreditCustomer'].astype(int)\n",
    "numerical_df['Default'] = numerical_df['Default'].astype(int)\n",
    "numerical_df"
   ],
   "metadata": {
    "collapsed": false,
    "ExecuteTime": {
     "end_time": "2023-12-28T15:19:39.197362100Z",
     "start_time": "2023-12-28T15:19:39.166111Z"
    }
   }
  },
  {
   "cell_type": "code",
   "execution_count": 31,
   "outputs": [],
   "source": [
    "numerical_df.to_csv('../data/NumericalLoanData.csv', index=False)"
   ],
   "metadata": {
    "collapsed": false,
    "ExecuteTime": {
     "end_time": "2023-12-28T15:19:41.327780400Z",
     "start_time": "2023-12-28T15:19:40.614484500Z"
    }
   }
  }
 ],
 "metadata": {
  "kernelspec": {
   "display_name": "Python 3",
   "language": "python",
   "name": "python3"
  },
  "language_info": {
   "codemirror_mode": {
    "name": "ipython",
    "version": 2
   },
   "file_extension": ".py",
   "mimetype": "text/x-python",
   "name": "python",
   "nbconvert_exporter": "python",
   "pygments_lexer": "ipython2",
   "version": "2.7.6"
  }
 },
 "nbformat": 4,
 "nbformat_minor": 0
}
